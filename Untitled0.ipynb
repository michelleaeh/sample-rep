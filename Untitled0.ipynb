{
  "nbformat": 4,
  "nbformat_minor": 0,
  "metadata": {
    "colab": {
      "name": "Untitled0.ipynb",
      "provenance": [],
      "collapsed_sections": [],
      "authorship_tag": "ABX9TyMdMOtVTm6i1QVF/PcBsRZo",
      "include_colab_link": true
    },
    "kernelspec": {
      "name": "python3",
      "display_name": "Python 3"
    }
  },
  "cells": [
    {
      "cell_type": "markdown",
      "metadata": {
        "id": "view-in-github",
        "colab_type": "text"
      },
      "source": [
        "<a href=\"https://colab.research.google.com/github/michelleaeh/sample-rep/blob/master/Untitled0.ipynb\" target=\"_parent\"><img src=\"https://colab.research.google.com/assets/colab-badge.svg\" alt=\"Open In Colab\"/></a>"
      ]
    },
    {
      "cell_type": "code",
      "metadata": {
        "id": "-8rva_K0zcz-",
        "colab_type": "code",
        "colab": {
          "base_uri": "https://localhost:8080/",
          "height": 119
        },
        "outputId": "ee0f6a8c-46ff-4a5a-a5c1-809bd65ba3c0"
      },
      "source": [
        "!git clone https://github.com/Ajithvajrala23/CE888_Lab_ML_Deployment.git"
      ],
      "execution_count": 1,
      "outputs": [
        {
          "output_type": "stream",
          "text": [
            "Cloning into 'CE888_Lab_ML_Deployment'...\n",
            "remote: Enumerating objects: 4805, done.\u001b[K\n",
            "remote: Total 4805 (delta 0), reused 0 (delta 0), pack-reused 4805\u001b[K\n",
            "Receiving objects: 100% (4805/4805), 54.00 MiB | 21.93 MiB/s, done.\n",
            "Resolving deltas: 100% (363/363), done.\n",
            "Checking out files: 100% (4452/4452), done.\n"
          ],
          "name": "stdout"
        }
      ]
    },
    {
      "cell_type": "code",
      "metadata": {
        "id": "Om3A_Rv71uQC",
        "colab_type": "code",
        "colab": {}
      },
      "source": [
        "import os\n",
        "os.getcwd()\n",
        "\n",
        "'/content'\n",
        "\n",
        "os.chdir('/content/CE888_Lab_ML_Deployment')\n"
      ],
      "execution_count": 0,
      "outputs": []
    }
  ]
}